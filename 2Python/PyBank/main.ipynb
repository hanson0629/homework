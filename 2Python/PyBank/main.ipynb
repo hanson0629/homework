{
 "cells": [
  {
   "cell_type": "code",
   "execution_count": 1,
   "id": "informed-render",
   "metadata": {},
   "outputs": [],
   "source": [
    "import pandas as pd"
   ]
  },
  {
   "cell_type": "code",
   "execution_count": 2,
   "id": "dependent-somalia",
   "metadata": {},
   "outputs": [],
   "source": [
    "data = pd.read_csv('budget_data.csv')"
   ]
  },
  {
   "cell_type": "code",
   "execution_count": 3,
   "id": "brilliant-excellence",
   "metadata": {},
   "outputs": [
    {
     "data": {
      "text/html": [
       "<div>\n",
       "<style scoped>\n",
       "    .dataframe tbody tr th:only-of-type {\n",
       "        vertical-align: middle;\n",
       "    }\n",
       "\n",
       "    .dataframe tbody tr th {\n",
       "        vertical-align: top;\n",
       "    }\n",
       "\n",
       "    .dataframe thead th {\n",
       "        text-align: right;\n",
       "    }\n",
       "</style>\n",
       "<table border=\"1\" class=\"dataframe\">\n",
       "  <thead>\n",
       "    <tr style=\"text-align: right;\">\n",
       "      <th></th>\n",
       "      <th>Date</th>\n",
       "      <th>Profit/Losses</th>\n",
       "    </tr>\n",
       "  </thead>\n",
       "  <tbody>\n",
       "    <tr>\n",
       "      <th>0</th>\n",
       "      <td>Jan-2010</td>\n",
       "      <td>867884</td>\n",
       "    </tr>\n",
       "    <tr>\n",
       "      <th>1</th>\n",
       "      <td>Feb-2010</td>\n",
       "      <td>984655</td>\n",
       "    </tr>\n",
       "    <tr>\n",
       "      <th>2</th>\n",
       "      <td>Mar-2010</td>\n",
       "      <td>322013</td>\n",
       "    </tr>\n",
       "    <tr>\n",
       "      <th>3</th>\n",
       "      <td>Apr-2010</td>\n",
       "      <td>-69417</td>\n",
       "    </tr>\n",
       "    <tr>\n",
       "      <th>4</th>\n",
       "      <td>May-2010</td>\n",
       "      <td>310503</td>\n",
       "    </tr>\n",
       "  </tbody>\n",
       "</table>\n",
       "</div>"
      ],
      "text/plain": [
       "       Date  Profit/Losses\n",
       "0  Jan-2010         867884\n",
       "1  Feb-2010         984655\n",
       "2  Mar-2010         322013\n",
       "3  Apr-2010         -69417\n",
       "4  May-2010         310503"
      ]
     },
     "execution_count": 3,
     "metadata": {},
     "output_type": "execute_result"
    }
   ],
   "source": [
    "data.head()"
   ]
  },
  {
   "cell_type": "markdown",
   "id": "careful-validity",
   "metadata": {},
   "source": [
    "Total Number of Months"
   ]
  },
  {
   "cell_type": "code",
   "execution_count": 5,
   "id": "passive-fashion",
   "metadata": {},
   "outputs": [
    {
     "name": "stdout",
     "output_type": "stream",
     "text": [
      "86\n"
     ]
    }
   ],
   "source": [
    "month_count = data['Date'].nunique()\n",
    "print(month_count)"
   ]
  },
  {
   "cell_type": "markdown",
   "id": "studied-guest",
   "metadata": {},
   "source": [
    "Net Profit/Loss"
   ]
  },
  {
   "cell_type": "code",
   "execution_count": 6,
   "id": "handy-product",
   "metadata": {},
   "outputs": [],
   "source": [
    "total = data['Profit/Losses'].sum()"
   ]
  },
  {
   "cell_type": "markdown",
   "id": "tutorial-visitor",
   "metadata": {},
   "source": [
    "Average Change in Profit/Losses and Greatest Increase/Decrease in Profits"
   ]
  },
  {
   "cell_type": "code",
   "execution_count": 7,
   "id": "protective-contrary",
   "metadata": {},
   "outputs": [
    {
     "name": "stdout",
     "output_type": "stream",
     "text": [
      "-2315.12\n",
      "1926159\n",
      "-2196167\n",
      "Feb-2012\n",
      "Sep-2013\n"
     ]
    }
   ],
   "source": [
    "temp1 = 0\n",
    "temp2 = 0\n",
    "diff = 0\n",
    "count = 0\n",
    "increase = 0\n",
    "decrease = 0\n",
    "increase_month = ''\n",
    "decrease_month = ''\n",
    "for i in range(len(data)):\n",
    "    date = data['Date']\n",
    "    profit = data['Profit/Losses']\n",
    "    if i != len(data) -1:\n",
    "        temp1 = profit[i]\n",
    "        temp2 = profit[i + 1]\n",
    "        change = temp2 - temp1\n",
    "        diff += change\n",
    "        count += 1\n",
    "        # Finding Greatest Increase and Decrease\n",
    "        if temp1 < temp2 and change > increase:\n",
    "            increase = change\n",
    "            increase_month = date[i + 1]\n",
    "        elif temp1 > temp2 and change < decrease:\n",
    "            decrease = change\n",
    "            decrease_month = date[i + 1]\n",
    "\n",
    "avg_change = round(diff/count, 2)\n",
    "print(avg_change)\n",
    "print(increase)\n",
    "print(decrease)\n",
    "print(increase_month)\n",
    "print(decrease_month)"
   ]
  },
  {
   "cell_type": "code",
   "execution_count": 8,
   "id": "regional-serbia",
   "metadata": {},
   "outputs": [],
   "source": [
    "from pathlib import Path"
   ]
  },
  {
   "cell_type": "code",
   "execution_count": 9,
   "id": "extended-territory",
   "metadata": {},
   "outputs": [
    {
     "name": "stdout",
     "output_type": "stream",
     "text": [
      "Financial Analysis:\n",
      "-------------------\n",
      "Total Months: 86\n",
      "Total: $38382578\n",
      "Average Change: $-196785\n",
      "Greatest Increase in Profits: Feb-2012 ($1926159)\n",
      "Greatest Decrease in Profits: Sep-2013 ($-2196167)\n"
     ]
    }
   ],
   "source": [
    "print('Financial Analysis:\\n-------------------')\n",
    "text = 'Financial Analysis:\\n-------------------\\n'\n",
    "print(f'Total Months: {month_count}\\nTotal: ${total}\\nAverage Change: ${diff}\\nGreatest Increase in Profits: {increase_month} (${increase})\\nGreatest Decrease in Profits: {decrease_month} (${decrease})')\n",
    "text += f'Total Months: {month_count}\\nTotal: ${total}\\nAverage Change: ${diff}\\nGreatest Increase in Profits: {increase_month} (${increase})\\nGreatest Decrease in Profits: {decrease_month} (${decrease})'\n",
    "\n",
    "output_path = Path('Financial_Analysis.txt')\n",
    "with open(output_path, 'w') as file:\n",
    "    file.write(text)"
   ]
  },
  {
   "cell_type": "code",
   "execution_count": null,
   "id": "original-amino",
   "metadata": {},
   "outputs": [],
   "source": []
  }
 ],
 "metadata": {
  "kernelspec": {
   "display_name": "Python 3",
   "language": "python",
   "name": "python3"
  },
  "language_info": {
   "codemirror_mode": {
    "name": "ipython",
    "version": 3
   },
   "file_extension": ".py",
   "mimetype": "text/x-python",
   "name": "python",
   "nbconvert_exporter": "python",
   "pygments_lexer": "ipython3",
   "version": "3.8.5"
  }
 },
 "nbformat": 4,
 "nbformat_minor": 5
}
